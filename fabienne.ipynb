{
 "cells": [
  {
   "cell_type": "code",
   "execution_count": 1,
   "metadata": {},
   "outputs": [],
   "source": [
    "import sqlite3\n",
    "\n",
    "connexion = sqlite3.connect(\"vivino.db\")\n",
    "cursor = connexion.cursor()"
   ]
  },
  {
   "cell_type": "code",
   "execution_count": null,
   "metadata": {},
   "outputs": [],
   "source": [
    "import sqlite3\n",
    "import pandas as pd\n",
    "\n",
    "# Connect to the SQLite database\n",
    "conn = sqlite3.connect('vivino.db')\n",
    "\n",
    "# SQL query to select data from the database\n",
    "query = \"SELECT * FROM grapes\"\n",
    "\n",
    "#Execute the query and fetch the results\n",
    "df = pd.read_sql_query(query, conn)\n",
    "\n",
    "# Close the database connection\n",
    "conn.close()\n",
    "\n",
    "# Export DataFrame to CSV\n",
    "df.to_csv('grapes.csv', index=False)\n",
    "\n",
    "# replace 'grapes' and 'grapes.csv' by the table and the file name you want to export it as"
   ]
  },
  {
   "cell_type": "code",
   "execution_count": 18,
   "metadata": {},
   "outputs": [
    {
     "data": {
      "text/plain": [
       "[(1161459, 1, 1),\n",
       " (6880159, 1, 1),\n",
       " (6988511, 1, 1),\n",
       " (14187320, 1, 1),\n",
       " (1411331, 1, 1),\n",
       " (6457741, 1, 1),\n",
       " (105812, 1, 1),\n",
       " (7372117, 1, 1),\n",
       " (1602232, 1, 1),\n",
       " (1602232, 1, 1)]"
      ]
     },
     "execution_count": 18,
     "metadata": {},
     "output_type": "execute_result"
    }
   ],
   "source": [
    "# Order vintages by rank\n",
    "cursor.execute(\"\"\"\n",
    "    SELECT vintage_id, rank, previous_rank\n",
    "    FROM \n",
    "        vintage_toplists_rankings\n",
    "    ORDER BY rank\n",
    "    LIMIT 10;\n",
    "\"\"\")\n",
    "cursor.fetchall()\n",
    "      "
   ]
  },
  {
   "cell_type": "code",
   "execution_count": 21,
   "metadata": {},
   "outputs": [
    {
     "data": {
      "text/plain": [
       "[(1161459,\n",
       "  'Salon Le Mesnil Blanc de Blancs (Cuvée S) Brut Champagne 1996',\n",
       "  1127349,\n",
       "  1),\n",
       " (6880159, 'Masseto Toscana 2006', 2446729, 1),\n",
       " (6988511, 'Masseto Toscana 2005', 2446729, 1),\n",
       " (14187320, 'Scarecrow Cabernet Sauvignon 2015', 1611255, 1),\n",
       " (1411331, 'Ornellaia Bolgheri Superiore 2005', 22447, 1),\n",
       " (6457741, 'Masseto Toscana 2010', 2446729, 1),\n",
       " (105812, 'Château Rayas Châteauneuf-du-Pape 2006', 87552, 1),\n",
       " (7372117, 'Masseto Toscana 2004', 2446729, 1),\n",
       " (1602232, 'Château Rayas Châteauneuf-du-Pape 2001', 87552, 1),\n",
       " (1602232, 'Château Rayas Châteauneuf-du-Pape 2001', 87552, 1)]"
      ]
     },
     "execution_count": 21,
     "metadata": {},
     "output_type": "execute_result"
    }
   ],
   "source": [
    "# Order vintages by rank\n",
    "cursor.execute(\"\"\"\n",
    "    SELECT vintage_id, name, wine_id, rank\n",
    "    FROM \n",
    "        vintage_toplists_rankings\n",
    "        INNER JOIN vintages ON vintages.id = vintage_toplists_rankings.vintage_id\n",
    "    ORDER BY rank\n",
    "    LIMIT 10;\n",
    "\"\"\")\n",
    "cursor.fetchall()"
   ]
  },
  {
   "cell_type": "code",
   "execution_count": 52,
   "metadata": {},
   "outputs": [
    {
     "data": {
      "text/plain": [
       "[(14187320, 'Scarecrow Cabernet Sauvignon 2015', 1611255, 4.8, 1558.75),\n",
       " (6880159, 'Masseto Toscana 2006', 2446729, 4.8, 4910.0),\n",
       " (6988511, 'Masseto Toscana 2005', 2446729, 4.8, 4697.5),\n",
       " (6988511, 'Masseto Toscana 2005', 2446729, 4.8, 4697.5),\n",
       " (93707,\n",
       "  'Château Lafite Rothschild Pauillac (Premier Grand Cru Classé) 2003',\n",
       "  3908,\n",
       "  4.8,\n",
       "  1900.0),\n",
       " (93707,\n",
       "  'Château Lafite Rothschild Pauillac (Premier Grand Cru Classé) 2003',\n",
       "  3908,\n",
       "  4.8,\n",
       "  1900.0),\n",
       " (2641965,\n",
       "  'Château Latour Grand Vin Pauillac (Premier Grand Cru Classé) 2003',\n",
       "  1655970,\n",
       "  4.8,\n",
       "  1686.25),\n",
       " (1688597, 'Krug Clos du Mesnil 2000', 79635, 4.8, 3096.25),\n",
       " (1161459,\n",
       "  'Salon Le Mesnil Blanc de Blancs (Cuvée S) Brut Champagne 1996',\n",
       "  1127349,\n",
       "  4.8,\n",
       "  2882.5),\n",
       " (1161459,\n",
       "  'Salon Le Mesnil Blanc de Blancs (Cuvée S) Brut Champagne 1996',\n",
       "  1127349,\n",
       "  4.8,\n",
       "  2882.5)]"
      ]
     },
     "execution_count": 52,
     "metadata": {},
     "output_type": "execute_result"
    }
   ],
   "source": [
    "# Order vintages by ratings_average and year\n",
    "cursor.execute(\"\"\"\n",
    "    SELECT vintage_id, name, wine_id, ratings_average AS rating, price_euros AS price\n",
    "    FROM \n",
    "        vintage_toplists_rankings\n",
    "        INNER JOIN vintages ON vintages.id = vintage_toplists_rankings.vintage_id\n",
    "    ORDER BY rating DESC , year DESC        \n",
    "    LIMIT 10;\n",
    "\"\"\")\n",
    "cursor.fetchall()"
   ]
  },
  {
   "cell_type": "code",
   "execution_count": 34,
   "metadata": {},
   "outputs": [
    {
     "data": {
      "text/plain": [
       "[('Amarone della Valpolicella Classico Riserva', 4.8, 587),\n",
       " ('Cabernet Sauvignon', 4.8, 2941),\n",
       " ('Mágico', 4.8, 146),\n",
       " ('Fratini Bolgheri Superiore', 4.8, 153),\n",
       " ('Cristal Rosé Vinothèque', 4.8, 88),\n",
       " ('Batard-Montrachet Grand Cru', 4.8, 34),\n",
       " ('IX Estate Red', 4.7, 2810),\n",
       " ('Special Selection Cabernet Sauvignon', 4.7, 41236),\n",
       " ('Unico Reserva Especial Edición', 4.7, 13025),\n",
       " ('Unico', 4.7, 45140)]"
      ]
     },
     "execution_count": 34,
     "metadata": {},
     "output_type": "execute_result"
    }
   ],
   "source": [
    "# Order by ratings_average from Wines\n",
    "cursor.execute(\"\"\"\n",
    "    SELECT name, ratings_average AS rating, ratings_count AS count\n",
    "    FROM wines\n",
    "    ORDER BY rating DESC\n",
    "    LIMIT 10;\n",
    "\"\"\")\n",
    "cursor.fetchall()\n",
    "        "
   ]
  },
  {
   "cell_type": "code",
   "execution_count": 51,
   "metadata": {},
   "outputs": [
    {
     "data": {
      "text/plain": [
       "[('Amarone della Valpolicella Classico Riserva',\n",
       "  'Amarone della Valpolicella Classico',\n",
       "  'Italie',\n",
       "  4.8),\n",
       " ('Cabernet Sauvignon', 'Rutherford', 'États-Unis', 4.8),\n",
       " ('Mágico', 'Rioja', 'Espagne', 4.8),\n",
       " ('Fratini Bolgheri Superiore', 'Bolgheri Superiore', 'Italie', 4.8),\n",
       " ('Cristal Rosé Vinothèque', 'Champagne', 'France', 4.8),\n",
       " ('Batard-Montrachet Grand Cru', 'Bâtard-Montrachet Grand Cru', 'France', 4.8),\n",
       " ('IX Estate Red', 'Napa Valley', 'États-Unis', 4.7),\n",
       " ('Special Selection Cabernet Sauvignon', 'Napa Valley', 'États-Unis', 4.7),\n",
       " ('Unico Reserva Especial Edición', 'Ribera del Duero', 'Espagne', 4.7),\n",
       " ('Unico', 'Ribera del Duero', 'Espagne', 4.7)]"
      ]
     },
     "execution_count": 51,
     "metadata": {},
     "output_type": "execute_result"
    }
   ],
   "source": [
    "# 1. We want to highlight 10 wines to increase our sales. \n",
    "# Which ones should we choose and why?\n",
    "\n",
    "# Order by ratings_average from Wines SELECT regions.name AND countries.name\n",
    "cursor.execute(\"\"\"\n",
    "    SELECT wines.name AS name, regions.name AS region, countries.name AS country, ratings_average AS rating\n",
    "    FROM wines\n",
    "    INNER JOIN regions ON regions.id = wines.region_id\n",
    "    INNER JOIN countries ON countries.code = regions.country_code\n",
    "    ORDER BY rating DESC\n",
    "    LIMIT 10;\n",
    "\"\"\")\n",
    "cursor.fetchall()\n",
    "        "
   ]
  },
  {
   "cell_type": "code",
   "execution_count": 47,
   "metadata": {},
   "outputs": [
    {
     "data": {
      "text/plain": [
       "[('The Armagh Shiraz',\n",
       "  \"Tenuta Tignanello 'Solaia'\",\n",
       "  'Clare Valley',\n",
       "  'Australie',\n",
       "  4.5),\n",
       " ('Raut Lagrein',\n",
       "  'Corte di Cama Sforzato di Valtellina',\n",
       "  'Südtirol - Alto Adige',\n",
       "  'Italie',\n",
       "  4.5),\n",
       " ('Colheita Porto', 'Tignanello', 'Porto', 'Portugal', 4.4),\n",
       " ('Lion Tamer Napa Valley Red Blend',\n",
       "  'Siepi',\n",
       "  'Napa Valley',\n",
       "  'États-Unis',\n",
       "  4.3)]"
      ]
     },
     "execution_count": 47,
     "metadata": {},
     "output_type": "execute_result"
    }
   ],
   "source": [
    "# Order by ratings_average from Wines SELECT regions.name, wineries.name\n",
    "cursor.execute(\"\"\"\n",
    "    SELECT wines.name, wineries.name AS winery, regions.name AS region, countries.name AS country, ratings_average AS rating\n",
    "    FROM wines\n",
    "    INNER JOIN regions ON regions.id = wines.region_id\n",
    "    INNER JOIN countries ON countries.code = regions.country_code\n",
    "    INNER JOIN wineries ON wineries.id = wines.winery_id\n",
    "    ORDER BY rating DESC\n",
    "    LIMIT 10;\n",
    "\"\"\")\n",
    "cursor.fetchall()\n",
    "\n",
    "# The wineries table doesn't link properly to the wines table. \n",
    "# Match only gives four items so not useful.\n",
    "        "
   ]
  }
 ],
 "metadata": {
  "kernelspec": {
   "display_name": ".venv",
   "language": "python",
   "name": "python3"
  },
  "language_info": {
   "codemirror_mode": {
    "name": "ipython",
    "version": 3
   },
   "file_extension": ".py",
   "mimetype": "text/x-python",
   "name": "python",
   "nbconvert_exporter": "python",
   "pygments_lexer": "ipython3",
   "version": "3.12.2"
  }
 },
 "nbformat": 4,
 "nbformat_minor": 2
}
