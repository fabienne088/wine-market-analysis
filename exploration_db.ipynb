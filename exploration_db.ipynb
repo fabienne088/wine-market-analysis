{
 "cells": [
  {
   "cell_type": "code",
   "execution_count": 26,
   "metadata": {},
   "outputs": [],
   "source": [
    "import sqlite3\n",
    "\n",
    "connexion = sqlite3.connect('vivino.db')\n",
    "cursor = connexion.cursor()\n",
    "\n",
    "\n"
   ]
  },
  {
   "cell_type": "code",
   "execution_count": 47,
   "metadata": {},
   "outputs": [
    {
     "data": {
      "text/plain": [
       "[(1020,)]"
      ]
     },
     "execution_count": 47,
     "metadata": {},
     "output_type": "execute_result"
    }
   ],
   "source": [
    "query1 = \"\"\"\n",
    "SELECT COUNT(wineries.name)\n",
    "FROM wineries\n",
    "WHERE EXISTS (\n",
    "    SELECT 1\n",
    "    FROM wines\n",
    "    WHERE wineries.name = wines.name\n",
    ");\n",
    "\n",
    "\"\"\"\n",
    "cursor.execute(query1)\n",
    "cursor.fetchall()\n",
    "\n",
    "#the number of matches equals to number of wines names and wineries names, therefore, they match"
   ]
  },
  {
   "cell_type": "code",
   "execution_count": 79,
   "metadata": {},
   "outputs": [
    {
     "data": {
      "text/plain": [
       "[('Cabernet Sauvignon', 4.8, 2941),\n",
       " ('Toscana', 4.7, 16284),\n",
       " ('Le Mesnil Blanc de Blancs (Cuvée S) Brut Champagne', 4.7, 9564)]"
      ]
     },
     "execution_count": 79,
     "metadata": {},
     "output_type": "execute_result"
    }
   ],
   "source": [
    "#show the wines that have ranking 1 \n",
    "\n",
    "query2 = \"\"\"\n",
    "SELECT DISTINCT wines.name, wines.ratings_average, wines.ratings_count\n",
    "FROM wines\n",
    "JOIN vintages ON wines.id = vintages.wine_id\n",
    "JOIN vintage_toplists_rankings ON vintages.id = vintage_toplists_rankings.vintage_id\n",
    "JOIN toplists ON vintage_toplists_rankings.top_list_id = toplists.id\n",
    "WHERE vintage_toplists_rankings.rank = 1 AND vintage_toplists_rankings.previous_rank = 1\n",
    "GROUP BY toplists.name\n",
    "ORDER BY wines.ratings_average DESC, wines.ratings_count DESC\n",
    "LIMIT 3\n",
    "\"\"\"\n",
    "\n",
    "cursor.execute(query2)\n",
    "cursor.fetchall()"
   ]
  },
  {
   "cell_type": "code",
   "execution_count": 82,
   "metadata": {},
   "outputs": [
    {
     "data": {
      "text/plain": [
       "[('Cabernet Sauvignon', 4.8, 2941, 4.76458851205599),\n",
       " ('Toscana', 4.7, 16284, 4.6817616695226825),\n",
       " ('Le Mesnil Blanc de Blancs (Cuvée S) Brut Champagne',\n",
       "  4.7,\n",
       "  9564,\n",
       "  4.676201704983944)]"
      ]
     },
     "execution_count": 82,
     "metadata": {},
     "output_type": "execute_result"
    }
   ],
   "source": [
    "#show the wines that have ranking 1 \n",
    "\n",
    "# guaranteed_rating is the 95% percentile of the rating, based on the sample size\n",
    "# guaranteed_rating := rating - 1.96 * sqrt(rating*(1-rating)/count)\n",
    "# https://www.omnicalculator.com/statistics/sampling-error\n",
    "\n",
    "query2 = \"\"\"\n",
    "SELECT DISTINCT wines.name, wines.ratings_average, wines.ratings_count, 5.0*(((wines.ratings_average/5.0) - 1.96 * SQRT((wines.ratings_average/5.0)*(1.0-(wines.ratings_average/5.0))/wines.ratings_count))) AS guaranteed_rating\n",
    "FROM wines\n",
    "JOIN vintages ON wines.id = vintages.wine_id\n",
    "JOIN vintage_toplists_rankings ON vintages.id = vintage_toplists_rankings.vintage_id\n",
    "JOIN toplists ON vintage_toplists_rankings.top_list_id = toplists.id\n",
    "WHERE vintage_toplists_rankings.rank = 1 AND vintage_toplists_rankings.previous_rank = 1\n",
    "GROUP BY toplists.name\n",
    "ORDER BY guaranteed_rating DESC\n",
    "LIMIT 3\n",
    "\"\"\"\n",
    "\n",
    "cursor.execute(query2)\n",
    "cursor.fetchall()"
   ]
  },
  {
   "cell_type": "code",
   "execution_count": 70,
   "metadata": {},
   "outputs": [
    {
     "name": "stdout",
     "output_type": "stream",
     "text": [
      "[\"Vivino's 2016 Wine Style Awards: Italian Barbaresco\", \"Vivino's 2016 Wine Style Awards: Italian Barolo\", \"Vivino's 2016 Wine Style Awards: Italian Bolgheri\", \"Vivino's 2017 Wine Style Awards: Italian Amarone\", \"Vivino's 2017 Wine Style Awards: Italian Barolo\", \"Vivino's 2017 Wine Style Awards: Italian Bolgheri\", \"Vivino's 2018 Wine Style Awards: Italian Amarone\", \"Vivino's 2018 Wine Style Awards: Italian Barbaresco\", \"Vivino's 2018 Wine Style Awards: Italian Barolo\", \"Vivino's 2018 Wine Style Awards: Italian Bolgheri\", \"Vivino's 2019 Wine Style Awards: Italian Barbaresco\", \"Vivino's 2019 Wine Style Awards: Italian Barolo\", \"Vivino's 2019 Wine Style Awards: Italian Bolgheri\", \"Vivino's 2020 Wine Style Awards: Italian Amarone\", \"Vivino's 2020 Wine Style Awards: Italian Barbaresco\", \"Vivino's 2020 Wine Style Awards: Italian Barolo\", \"Vivino's 2020 Wine Style Awards: Italian Bolgheri\", \"Vivino's 2016 Wine Style Awards: Italian Brunello\", \"Vivino's 2016 Wine Style Awards: Central Italy Red\", \"Vivino's 2016 Wine Style Awards: French Champagne\", \"Vivino's 2016 Wine Style Awards: Languedoc-Roussillon White\", \"Vivino's 2017 Wine Style Awards: South African Bordeaux Blend\", \"Vivino's 2017 Wine Style Awards: Italian Brunello\", \"Vivino's 2017 Wine Style Awards: Burgundy Red\", \"Vivino's 2017 Wine Style Awards: Central Italy Red\", \"Vivino's 2017 Wine Style Awards: French Champagne\", \"Vivino's 2018 Wine Style Awards: South African Bordeaux Blend\", \"Vivino's 2018 Wine Style Awards: Italian Brunello\", \"Vivino's 2018 Wine Style Awards: French Champagne\", \"Vivino's 2019 Wine Style Awards: South African Bordeaux Blend\", \"Vivino's 2019 Wine Style Awards: Italian Brunello\", \"Vivino's 2019 Wine Style Awards: French Champagne Vintage\", \"Vivino's 2020 Wine Style Awards: French Champagne Vintage\", \"Vivino's 2020 Wine Style Awards: Languedoc-Roussillon Red\", \"Vivino's 2020 Wine Style Awards: Languedoc-Roussillon White\", \"Vivino's 2020 Wine Style Awards: Argentinian Malbec\", \"Vivino's 2016 Wine Style Awards: Northern Italy Red\", \"Vivino's 2016 Wine Style Awards: Northern Italy White\", \"Vivino's 2016 Wine Style Awards: Southern Rhône Red\", \"Vivino's 2016 Wine Style Awards: Italian Valpolicella Red\", \"Vivino's 2016 Wine Style Awards: Bordeaux Médoc\", \"Vivino's 2017 Wine Style Awards: Italian Montepulciano d'Abruzzo\", \"Vivino's 2017 Wine Style Awards: Southern Rhône Red\", \"Vivino's 2017 Wine Style Awards: Italian Valpolicella Red\", \"Vivino's 2017 Wine Style Awards: Bordeaux Pauillac\", \"Vivino's 2017 Wine Style Awards: Bordeaux Pomerol\", 'top_lists.EditorialTopList.2017999.name', \"Vivino's 2018 Wine Style Awards: Italian Nebbiolo\", \"Vivino's 2018 Wine Style Awards: Bordeaux Sauternes\", \"Vivino's 2018 Wine Style Awards: Spanish Sherry\", \"Vivino's 2018 Wine Style Awards: Italian Valpolicella Red\", \"Vivino's 2018 Wine Style Awards: Bordeaux Pauillac\", \"Vivino's 2018 Wine Style Awards: Bordeaux Saint-Émilion\", \"Vivino's 2018 Wine Style Awards: Tuscan Red\", \"Vivino's 2018 Wine Style Awards: Southern Rhône Châteauneuf-du-Pape Red\", \"Vivino's 2019 Wine Style Awards: Italian Montepulciano d'Abruzzo\", \"Vivino's 2019 Wine Style Awards: Northern Italy Red\", \"Vivino's 2019 Wine Style Awards: Australian Rhône Blend Red\", \"Vivino's 2019 Wine Style Awards: Alsace Riesling\", \"Vivino's 2019 Wine Style Awards: Southern Italy Red\", \"Vivino's 2019 Wine Style Awards: Southern Rhône Red\", \"Vivino's 2019 Wine Style Awards: Bordeaux Margaux\", \"Vivino's 2019 Wine Style Awards: Bordeaux Pauillac\", \"Vivino's 2019 Wine Style Awards: Bordeaux Saint-Julien\", \"Vivino's 2019 Wine Style Awards: Bordeaux Pomerol\", \"Vivino's 2019 Wine Style Awards: Burgundy Côte de Beaune White\", \"Vivino's 2019 Wine Style Awards: Napa Valley Cabernet Sauvignon\", \"Vivino's 2019 Wine Style Awards: Tuscan Red\", \"Vivino's 2019 Wine Style Awards: Southern Rhône Châteauneuf-du-Pape Red\", \"Vivino's 2019 Wine Style Awards: French Champagne N.V.\", \"Vivino's 2020 Wine Style Awards: Northern Italy Red\", \"Vivino's 2020 Wine Style Awards: Australian Rhône Blend Red\", \"Vivino's 2020 Wine Style Awards: Spanish Ribera Del Duero Red\", 'top_lists.EditorialTopList.2020206.name', \"Vivino's 2020 Wine Style Awards: Southern Rhône Red\", \"Vivino's 2020 Wine Style Awards: South African Syrah\", \"Vivino's 2020 Wine Style Awards: Bordeaux Margaux\", \"Vivino's 2020 Wine Style Awards: Bordeaux Pauillac\", \"Vivino's 2020 Wine Style Awards: Bordeaux Saint-Julien\", \"Vivino's 2020 Wine Style Awards: Bordeaux Pomerol\", \"Vivino's 2020 Wine Style Awards: Napa Valley Bordeaux Blend\", \"Vivino's 2020 Wine Style Awards: Tuscan Red\", \"Vivino's 2020 Wine Style Awards: Southern Rhône Châteauneuf-du-Pape Red\", \"Vivino's 2020 Wine Style Awards: Portuguese Tawny Port\", \"Vivino's 2020 Wine Style Awards: French Champagne N.V.\", 'Bestsellers in United Kingdom', 'Bestsellers in Germany', 'Bestsellers in Massachusetts', 'Bestsellers in Italy', 'Bestsellers in Tennessee', 'Bestsellers in Arizona', 'Bestsellers in Nevada', 'Bestsellers in Hong Kong', 'Bestsellers in Switzerland', 'Bestsellers in New Mexico', 'Bestsellers in Singapore', 'Bestsellers in Ireland', 'Bestsellers in Wyoming', 'Bestsellers in Montana', 'Bestsellers in North Dakota', 'Bestsellers in Ontario', 'Bestsellers in British Columbia', 'Bestsellers in New Brunswick', 'Bestsellers in Gipuzkoa (Guipúzcoa)', 'Bestsellers in Seville (Sevilla)', 'Bestsellers in Asturias (Oviedo)', 'Bestsellers in Málaga', 'Bestsellers in Balearic Islands (Baleares)', 'Bestsellers in Girona (Gerona)', 'Bestsellers in Japan', 'Bestsellers in Córdoba', 'Bestsellers in Valladolid', 'Bestsellers in Salamanca', 'Bestsellers in Monaco', 'Bestsellers in Badajoz', 'Bestsellers in Burgos', 'Bestsellers in Utah', 'Bestsellers in Portugal', 'Bestsellers in Lisboa', 'Bestsellers in Setúbal', 'Bestsellers in Yukon', 'Bestsellers in Viseu', 'Bestsellers in Newfoundland and Labrador', 'Bestsellers in Zamora']\n"
     ]
    }
   ],
   "source": [
    "query3 = \"\"\"\n",
    "SELECT DISTINCT name\n",
    "FROM toplists\n",
    "\"\"\"\n",
    "cursor.execute(query3)\n",
    "result = cursor.fetchall()\n",
    "awards = []\n",
    "for i in range(len(result)):\n",
    "    awards.append(result[i][0])\n",
    "\n",
    "print (awards)\n",
    "\n"
   ]
  }
 ],
 "metadata": {
  "kernelspec": {
   "display_name": ".venv",
   "language": "python",
   "name": "python3"
  },
  "language_info": {
   "codemirror_mode": {
    "name": "ipython",
    "version": 3
   },
   "file_extension": ".py",
   "mimetype": "text/x-python",
   "name": "python",
   "nbconvert_exporter": "python",
   "pygments_lexer": "ipython3",
   "version": "3.10.11"
  }
 },
 "nbformat": 4,
 "nbformat_minor": 2
}
