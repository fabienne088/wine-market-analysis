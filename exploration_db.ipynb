{
 "cells": [
  {
   "cell_type": "code",
   "execution_count": 26,
   "metadata": {},
   "outputs": [],
   "source": [
    "import sqlite3\n",
    "\n",
    "connexion = sqlite3.connect('vivino.db')\n",
    "cursor = connexion.cursor()\n",
    "\n",
    "\n"
   ]
  },
  {
   "cell_type": "code",
   "execution_count": 47,
   "metadata": {},
   "outputs": [
    {
     "data": {
      "text/plain": [
       "[(1020,)]"
      ]
     },
     "execution_count": 47,
     "metadata": {},
     "output_type": "execute_result"
    }
   ],
   "source": [
    "query1 = \"\"\"\n",
    "SELECT COUNT(wineries.name)\n",
    "FROM wineries\n",
    "WHERE EXISTS (\n",
    "    SELECT 1\n",
    "    FROM wines\n",
    "    WHERE wineries.name = wines.name\n",
    ");\n",
    "\n",
    "\"\"\"\n",
    "cursor.execute(query1)\n",
    "cursor.fetchall()\n",
    "\n",
    "#the number of matches equals to number of wines names and wineries names, therefore, they match"
   ]
  },
  {
   "cell_type": "code",
   "execution_count": 122,
   "metadata": {},
   "outputs": [
    {
     "name": "stdout",
     "output_type": "stream",
     "text": [
      "[('Cabernet Sauvignon', 4.8, 2941, 14919), ('Toscana', 4.7, 16284, 82979), ('Le Mesnil Blanc de Blancs (Cuvée S) Brut Champagne', 4.7, 9564, 3286)]\n",
      "The 1 degree award goes to winery number 14919, for their Cabernet Sauvignon, rated 4.8 by 2941 users!\n",
      "The 2 degree award goes to winery number 82979, for their Toscana, rated 4.7 by 16284 users!\n",
      "The 3 degree award goes to winery number 3286, for their Le Mesnil Blanc de Blancs (Cuvée S) Brut Champagne, rated 4.7 by 9564 users!\n"
     ]
    }
   ],
   "source": [
    "#show the wines that have #1 ranking 2 years in row, highest rating given by most people\n",
    "\n",
    "query2 = \"\"\"\n",
    "SELECT DISTINCT wines.name, wines.ratings_average, wines.ratings_count, wines.winery_id\n",
    "FROM wines\n",
    "JOIN vintages ON wines.id = vintages.wine_id\n",
    "JOIN vintage_toplists_rankings ON vintages.id = vintage_toplists_rankings.vintage_id\n",
    "JOIN toplists ON vintage_toplists_rankings.top_list_id = toplists.id\n",
    "WHERE vintage_toplists_rankings.rank = 1 AND vintage_toplists_rankings.previous_rank = 1\n",
    "GROUP BY toplists.name\n",
    "ORDER BY wines.ratings_average DESC, wines.ratings_count DESC\n",
    "LIMIT 3\n",
    "\"\"\"\n",
    "cursor.execute(query2)\n",
    "result = cursor.fetchall()\n",
    "\n",
    "for i in range(len(result)):\n",
    "\n",
    "    print(f\"The {str(i+1)} degree award goes to winery number {str(result[i][3])}, for their {result[i][0]}, rated {str(result[i][1])} by {str(result[i][2])} users!\")"
   ]
  },
  {
   "cell_type": "code",
   "execution_count": 89,
   "metadata": {},
   "outputs": [
    {
     "name": "stdout",
     "output_type": "stream",
     "text": [
      "[('Cabernet Sauvignon', 4.8, 2941, 4.76458851205599), ('Toscana', 4.7, 16284, 4.6817616695226825), ('Le Mesnil Blanc de Blancs (Cuvée S) Brut Champagne', 4.7, 9564, 4.676201704983944)]\n",
      "['Cabernet Sauvignon', 'Toscana', 'Le Mesnil Blanc de Blancs (Cuvée S) Brut Champagne']\n"
     ]
    }
   ],
   "source": [
    "#show the wines that have ranking 1 \n",
    "\n",
    "# guaranteed_rating is the 95% percentile of the rating, based on the sample size\n",
    "# guaranteed_rating := rating - 1.96 * sqrt(rating*(1-rating)/count)\n",
    "# https://www.omnicalculator.com/statistics/sampling-error\n",
    "\n",
    "query2 = \"\"\"\n",
    "SELECT DISTINCT wines.name, wines.ratings_average, wines.ratings_count, 5.0*(((wines.ratings_average/5.0) - 1.96 * SQRT((wines.ratings_average/5.0)*(1.0-(wines.ratings_average/5.0))/wines.ratings_count))) AS guaranteed_rating\n",
    "FROM wines\n",
    "JOIN vintages ON wines.id = vintages.wine_id\n",
    "JOIN vintage_toplists_rankings ON vintages.id = vintage_toplists_rankings.vintage_id\n",
    "JOIN toplists ON vintage_toplists_rankings.top_list_id = toplists.id\n",
    "WHERE vintage_toplists_rankings.rank = 1 AND vintage_toplists_rankings.previous_rank = 1\n",
    "GROUP BY toplists.name\n",
    "ORDER BY guaranteed_rating DESC\n",
    "LIMIT 3\n",
    "\"\"\"\n",
    "\n",
    "cursor.execute(query2)\n",
    "result = cursor.fetchall()\n",
    "print(result)\n",
    "wine_names = []\n",
    "for i in result:\n",
    "    wine_names.append(i[0])"
   ]
  },
  {
   "cell_type": "code",
   "execution_count": 107,
   "metadata": {},
   "outputs": [
    {
     "name": "stdout",
     "output_type": "stream",
     "text": [
      "[('Cabernet Sauvignon', 16578), ('Cabernet Sauvignon', 61274), ('Cabernet Sauvignon', 66284), ('Cabernet Sauvignon', 94912), ('Cabernet Sauvignon', 1144227), ('Cabernet Sauvignon', 1145391), ('Cabernet Sauvignon', 1611255), ('Cabernet Sauvignon', 2816852)]\n",
      "[('Toscana', 1155217), ('Toscana', 1171108), ('Toscana', 2446729)]\n",
      "[('Le Mesnil Blanc de Blancs (Cuvée S) Brut Champagne', 1127349)]\n",
      "[]\n",
      "[]\n",
      "[]\n"
     ]
    }
   ],
   "source": [
    "for w in wine_names:\n",
    "    query = f\"\"\" SELECT name, id FROM wineries WHERE wineries.name = '{w}'\"\"\"\n",
    "    cursor.execute(query)\n",
    "    result = cursor.fetchall()\n",
    "    print(result)\n",
    "\n",
    "#Turns out wineries can make the same wine\n",
    "\n",
    "winery_ids = [14919, 82979, 3286]\n",
    "\n",
    "for w in winery_ids:\n",
    "    query = f\"\"\" SELECT name, id FROM wineries WHERE wineries.id = '{w}'\"\"\"\n",
    "    cursor.execute(query)\n",
    "    result = cursor.fetchall()\n",
    "    print(result)\n",
    "\n",
    "# winery_ids from the wines table do not exist in wineries table... "
   ]
  },
  {
   "cell_type": "code",
   "execution_count": 70,
   "metadata": {},
   "outputs": [
    {
     "name": "stdout",
     "output_type": "stream",
     "text": [
      "[\"Vivino's 2016 Wine Style Awards: Italian Barbaresco\", \"Vivino's 2016 Wine Style Awards: Italian Barolo\", \"Vivino's 2016 Wine Style Awards: Italian Bolgheri\", \"Vivino's 2017 Wine Style Awards: Italian Amarone\", \"Vivino's 2017 Wine Style Awards: Italian Barolo\", \"Vivino's 2017 Wine Style Awards: Italian Bolgheri\", \"Vivino's 2018 Wine Style Awards: Italian Amarone\", \"Vivino's 2018 Wine Style Awards: Italian Barbaresco\", \"Vivino's 2018 Wine Style Awards: Italian Barolo\", \"Vivino's 2018 Wine Style Awards: Italian Bolgheri\", \"Vivino's 2019 Wine Style Awards: Italian Barbaresco\", \"Vivino's 2019 Wine Style Awards: Italian Barolo\", \"Vivino's 2019 Wine Style Awards: Italian Bolgheri\", \"Vivino's 2020 Wine Style Awards: Italian Amarone\", \"Vivino's 2020 Wine Style Awards: Italian Barbaresco\", \"Vivino's 2020 Wine Style Awards: Italian Barolo\", \"Vivino's 2020 Wine Style Awards: Italian Bolgheri\", \"Vivino's 2016 Wine Style Awards: Italian Brunello\", \"Vivino's 2016 Wine Style Awards: Central Italy Red\", \"Vivino's 2016 Wine Style Awards: French Champagne\", \"Vivino's 2016 Wine Style Awards: Languedoc-Roussillon White\", \"Vivino's 2017 Wine Style Awards: South African Bordeaux Blend\", \"Vivino's 2017 Wine Style Awards: Italian Brunello\", \"Vivino's 2017 Wine Style Awards: Burgundy Red\", \"Vivino's 2017 Wine Style Awards: Central Italy Red\", \"Vivino's 2017 Wine Style Awards: French Champagne\", \"Vivino's 2018 Wine Style Awards: South African Bordeaux Blend\", \"Vivino's 2018 Wine Style Awards: Italian Brunello\", \"Vivino's 2018 Wine Style Awards: French Champagne\", \"Vivino's 2019 Wine Style Awards: South African Bordeaux Blend\", \"Vivino's 2019 Wine Style Awards: Italian Brunello\", \"Vivino's 2019 Wine Style Awards: French Champagne Vintage\", \"Vivino's 2020 Wine Style Awards: French Champagne Vintage\", \"Vivino's 2020 Wine Style Awards: Languedoc-Roussillon Red\", \"Vivino's 2020 Wine Style Awards: Languedoc-Roussillon White\", \"Vivino's 2020 Wine Style Awards: Argentinian Malbec\", \"Vivino's 2016 Wine Style Awards: Northern Italy Red\", \"Vivino's 2016 Wine Style Awards: Northern Italy White\", \"Vivino's 2016 Wine Style Awards: Southern Rhône Red\", \"Vivino's 2016 Wine Style Awards: Italian Valpolicella Red\", \"Vivino's 2016 Wine Style Awards: Bordeaux Médoc\", \"Vivino's 2017 Wine Style Awards: Italian Montepulciano d'Abruzzo\", \"Vivino's 2017 Wine Style Awards: Southern Rhône Red\", \"Vivino's 2017 Wine Style Awards: Italian Valpolicella Red\", \"Vivino's 2017 Wine Style Awards: Bordeaux Pauillac\", \"Vivino's 2017 Wine Style Awards: Bordeaux Pomerol\", 'top_lists.EditorialTopList.2017999.name', \"Vivino's 2018 Wine Style Awards: Italian Nebbiolo\", \"Vivino's 2018 Wine Style Awards: Bordeaux Sauternes\", \"Vivino's 2018 Wine Style Awards: Spanish Sherry\", \"Vivino's 2018 Wine Style Awards: Italian Valpolicella Red\", \"Vivino's 2018 Wine Style Awards: Bordeaux Pauillac\", \"Vivino's 2018 Wine Style Awards: Bordeaux Saint-Émilion\", \"Vivino's 2018 Wine Style Awards: Tuscan Red\", \"Vivino's 2018 Wine Style Awards: Southern Rhône Châteauneuf-du-Pape Red\", \"Vivino's 2019 Wine Style Awards: Italian Montepulciano d'Abruzzo\", \"Vivino's 2019 Wine Style Awards: Northern Italy Red\", \"Vivino's 2019 Wine Style Awards: Australian Rhône Blend Red\", \"Vivino's 2019 Wine Style Awards: Alsace Riesling\", \"Vivino's 2019 Wine Style Awards: Southern Italy Red\", \"Vivino's 2019 Wine Style Awards: Southern Rhône Red\", \"Vivino's 2019 Wine Style Awards: Bordeaux Margaux\", \"Vivino's 2019 Wine Style Awards: Bordeaux Pauillac\", \"Vivino's 2019 Wine Style Awards: Bordeaux Saint-Julien\", \"Vivino's 2019 Wine Style Awards: Bordeaux Pomerol\", \"Vivino's 2019 Wine Style Awards: Burgundy Côte de Beaune White\", \"Vivino's 2019 Wine Style Awards: Napa Valley Cabernet Sauvignon\", \"Vivino's 2019 Wine Style Awards: Tuscan Red\", \"Vivino's 2019 Wine Style Awards: Southern Rhône Châteauneuf-du-Pape Red\", \"Vivino's 2019 Wine Style Awards: French Champagne N.V.\", \"Vivino's 2020 Wine Style Awards: Northern Italy Red\", \"Vivino's 2020 Wine Style Awards: Australian Rhône Blend Red\", \"Vivino's 2020 Wine Style Awards: Spanish Ribera Del Duero Red\", 'top_lists.EditorialTopList.2020206.name', \"Vivino's 2020 Wine Style Awards: Southern Rhône Red\", \"Vivino's 2020 Wine Style Awards: South African Syrah\", \"Vivino's 2020 Wine Style Awards: Bordeaux Margaux\", \"Vivino's 2020 Wine Style Awards: Bordeaux Pauillac\", \"Vivino's 2020 Wine Style Awards: Bordeaux Saint-Julien\", \"Vivino's 2020 Wine Style Awards: Bordeaux Pomerol\", \"Vivino's 2020 Wine Style Awards: Napa Valley Bordeaux Blend\", \"Vivino's 2020 Wine Style Awards: Tuscan Red\", \"Vivino's 2020 Wine Style Awards: Southern Rhône Châteauneuf-du-Pape Red\", \"Vivino's 2020 Wine Style Awards: Portuguese Tawny Port\", \"Vivino's 2020 Wine Style Awards: French Champagne N.V.\", 'Bestsellers in United Kingdom', 'Bestsellers in Germany', 'Bestsellers in Massachusetts', 'Bestsellers in Italy', 'Bestsellers in Tennessee', 'Bestsellers in Arizona', 'Bestsellers in Nevada', 'Bestsellers in Hong Kong', 'Bestsellers in Switzerland', 'Bestsellers in New Mexico', 'Bestsellers in Singapore', 'Bestsellers in Ireland', 'Bestsellers in Wyoming', 'Bestsellers in Montana', 'Bestsellers in North Dakota', 'Bestsellers in Ontario', 'Bestsellers in British Columbia', 'Bestsellers in New Brunswick', 'Bestsellers in Gipuzkoa (Guipúzcoa)', 'Bestsellers in Seville (Sevilla)', 'Bestsellers in Asturias (Oviedo)', 'Bestsellers in Málaga', 'Bestsellers in Balearic Islands (Baleares)', 'Bestsellers in Girona (Gerona)', 'Bestsellers in Japan', 'Bestsellers in Córdoba', 'Bestsellers in Valladolid', 'Bestsellers in Salamanca', 'Bestsellers in Monaco', 'Bestsellers in Badajoz', 'Bestsellers in Burgos', 'Bestsellers in Utah', 'Bestsellers in Portugal', 'Bestsellers in Lisboa', 'Bestsellers in Setúbal', 'Bestsellers in Yukon', 'Bestsellers in Viseu', 'Bestsellers in Newfoundland and Labrador', 'Bestsellers in Zamora']\n"
     ]
    }
   ],
   "source": [
    "query3 = \"\"\"\n",
    "SELECT DISTINCT name\n",
    "FROM toplists\n",
    "\"\"\"\n",
    "cursor.execute(query3)\n",
    "result = cursor.fetchall()\n",
    "awards = []\n",
    "for i in range(len(result)):\n",
    "    awards.append(result[i][0])\n",
    "\n",
    "print (awards)\n",
    "\n"
   ]
  },
  {
   "cell_type": "code",
   "execution_count": 93,
   "metadata": {},
   "outputs": [
    {
     "name": "stdout",
     "output_type": "stream",
     "text": [
      "('Cabernet Sauvignon', 16578, 'Cabernet Sauvignon', 4.8, 2941, 4.76458851205599)\n",
      "('Toscana', 1155217, 'Toscana', 4.7, 16284, 4.6817616695226825)\n",
      "('Toscana', 1155217, 'Toscana', 4.7, 16284, 4.6817616695226825)\n",
      "('Toscana', 1155217, 'Toscana', 4.7, 16284, 4.6817616695226825)\n",
      "('Toscana', 1155217, 'Toscana', 4.7, 16284, 4.6817616695226825)\n",
      "('Le Mesnil Blanc de Blancs (Cuvée S) Brut Champagne', 1127349, 'Le Mesnil Blanc de Blancs (Cuvée S) Brut Champagne', 4.7, 9564, 4.676201704983944)\n",
      "('Châteauneuf-du-Pape', 18017, 'Châteauneuf-du-Pape', 4.7, 7544, 4.673204319684638)\n",
      "('Châteauneuf-du-Pape', 18017, 'Châteauneuf-du-Pape', 4.7, 7544, 4.673204319684638)\n",
      "('Châteauneuf-du-Pape', 18017, 'Châteauneuf-du-Pape', 4.7, 7544, 4.673204319684638)\n",
      "('Châteauneuf-du-Pape', 18017, 'Châteauneuf-du-Pape', 4.7, 7544, 4.673204319684638)\n",
      "('Bolgheri Superiore', 22447, 'Bolgheri Superiore', 4.6, 47939, 4.5878571537077715)\n",
      "('Château Margaux (Premier Grand Cru Classé)', 1127795, 'Château Margaux (Premier Grand Cru Classé)', 4.6, 45350, 4.587515350991718)\n",
      "('Sperss Barolo', 66194, 'Sperss Barolo', 4.6, 10950, 4.574592734652858)\n",
      "(\"Vin de Pays de l'Hérault Blanc\", 4139613, \"Vin de Pays de l'Hérault Blanc\", 4.6, 1209, 4.523536912141887)\n",
      "('Barbaresco', 66104, 'Barbaresco', 4.5, 24516, 4.481223159201636)\n",
      "('Barbaresco', 66104, 'Barbaresco', 4.5, 24516, 4.481223159201636)\n",
      "('Tordiz 40 Year Old Tawny Port', 76388, 'Tordiz 40 Year Old Tawny Port', 4.6, 474, 4.4778830884586895)\n",
      "('Valpolicella Superiore Monte Lodoletta', 89753, 'Valpolicella Superiore Monte Lodoletta', 4.5, 13024, 4.474238263331695)\n",
      "(\"Vin de Pays de l'Hérault\", 779852, \"Vin de Pays de l'Hérault\", 4.5, 8933, 4.468893677993393)\n",
      "(\"Vin de Pays de l'Hérault\", 779852, \"Vin de Pays de l'Hérault\", 4.5, 8933, 4.468893677993393)\n",
      "('Gaia & Rey Langhe', 2410111, 'Gaia & Rey Langhe', 4.5, 5909, 4.461753620023372)\n",
      "('Clos Sainte Hune Riesling Alsace', 1182677, 'Clos Sainte Hune Riesling Alsace', 4.5, 4106, 4.454118473579945)\n",
      "('Saint-Julien (Grand Cru Classé)', 22685, 'Saint-Julien (Grand Cru Classé)', 4.4, 29317, 4.381400628403038)\n",
      "('Corton-Charlemagne Grand Cru', 7273, 'Corton-Charlemagne Grand Cru', 4.4, 10296, 4.368614881854204)\n",
      "('Palo Cortado Tradición Vors 30 Years Sherry', 2558495, 'Palo Cortado Tradición Vors 30 Years Sherry', 4.4, 1050, 4.301720398861209)\n",
      "('Amarone della Valpolicella Classico', 1835, 'Amarone della Valpolicella Classico', 4.3, 77515, 4.287786322637052)\n",
      "('Vacqueyras', 1142819, 'Vacqueyras', 4.3, 3412, 4.241785012585488)\n",
      "('Nine Popes', 75183, 'Nine Popes', 4.3, 2118, 4.22611158656946)\n",
      "('Nine Popes', 75183, 'Nine Popes', 4.3, 2118, 4.22611158656946)\n"
     ]
    }
   ],
   "source": [
    "query4 = \"\"\" \n",
    "SELECT w.name, w.id, \n",
    "wines.name, wines.ratings_average, wines.ratings_count, 5.0*(((wines.ratings_average/5.0) - 1.96 * SQRT((wines.ratings_average/5.0)*(1.0-(wines.ratings_average/5.0))/wines.ratings_count))) AS guaranteed_rating\n",
    "FROM wineries w\n",
    "JOIN wines ON wines.name = w.name\n",
    "JOIN vintages ON wines.id = vintages.wine_id\n",
    "JOIN vintage_toplists_rankings ON vintages.id = vintage_toplists_rankings.vintage_id\n",
    "JOIN toplists ON vintage_toplists_rankings.top_list_id = toplists.id\n",
    "WHERE vintage_toplists_rankings.rank = 1 AND vintage_toplists_rankings.previous_rank = 1\n",
    "GROUP BY toplists.name\n",
    "ORDER BY guaranteed_rating DESC\n",
    "\"\"\"\n",
    "\n",
    "cursor.execute(query4)\n",
    "result = cursor.fetchall()\n",
    "for row in result:\n",
    "    print(row)"
   ]
  }
 ],
 "metadata": {
  "kernelspec": {
   "display_name": ".venv",
   "language": "python",
   "name": "python3"
  },
  "language_info": {
   "codemirror_mode": {
    "name": "ipython",
    "version": 3
   },
   "file_extension": ".py",
   "mimetype": "text/x-python",
   "name": "python",
   "nbconvert_exporter": "python",
   "pygments_lexer": "ipython3",
   "version": "3.10.11"
  }
 },
 "nbformat": 4,
 "nbformat_minor": 2
}
