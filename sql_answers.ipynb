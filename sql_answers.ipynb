{
 "cells": [
  {
   "cell_type": "markdown",
   "metadata": {},
   "source": [
    "# The SQL Queries to answer the questions the questions of the project"
   ]
  },
  {
   "cell_type": "markdown",
   "metadata": {},
   "source": [
    "## 1. Which 10 wines does the company need to highlight to increase the sales?"
   ]
  },
  {
   "cell_type": "code",
   "execution_count": 1,
   "metadata": {},
   "outputs": [],
   "source": [
    "#First, we need to access the database.\n",
    "import sqlite3\n",
    "\n",
    "connexion = sqlite3.connect(\"vivino.db\")\n",
    "cursor = connexion.cursor()"
   ]
  },
  {
   "cell_type": "code",
   "execution_count": 7,
   "metadata": {},
   "outputs": [
    {
     "name": "stdout",
     "output_type": "stream",
     "text": [
      "We need to highlight these hight-rated wines: \n",
      "1 . Amarone della Valpolicella Classico Riserva from Amarone della Valpolicella Classico, Italie, rated  4.8 .\n",
      "2 . Cabernet Sauvignon from Rutherford, États-Unis, rated  4.8 .\n",
      "3 . Mágico from Rioja, Espagne, rated  4.8 .\n",
      "4 . Fratini Bolgheri Superiore from Bolgheri Superiore, Italie, rated  4.8 .\n",
      "5 . Cristal Rosé Vinothèque from Champagne, France, rated  4.8 .\n",
      "6 . Batard-Montrachet Grand Cru from Bâtard-Montrachet Grand Cru, France, rated  4.8 .\n",
      "7 . IX Estate Red from Napa Valley, États-Unis, rated  4.7 .\n",
      "8 . Special Selection Cabernet Sauvignon from Napa Valley, États-Unis, rated  4.7 .\n",
      "9 . Unico Reserva Especial Edición from Ribera del Duero, Espagne, rated  4.7 .\n",
      "10 . Unico from Ribera del Duero, Espagne, rated  4.7 .\n"
     ]
    }
   ],
   "source": [
    "# To answer the question, we order by ratings average. \n",
    "cursor.execute(\"\"\"\n",
    "    SELECT wines.name AS name, regions.name AS region, countries.name AS country, ratings_average AS rating\n",
    "    FROM wines\n",
    "    INNER JOIN regions ON regions.id = wines.region_id\n",
    "    INNER JOIN countries ON countries.code = regions.country_code\n",
    "    ORDER BY rating DESC\n",
    "    LIMIT 10;\n",
    "\"\"\")\n",
    "result = cursor.fetchall()\n",
    "\n",
    "print(\"We need to highlight these hight-rated wines: \")\n",
    "for i in range(len(result)):\n",
    "    print(i+1, \". \" + result[i][0]+ \" from \" + result[i][1] + \", \" + result[i][2] + \", rated \", result[i][3], \".\")"
   ]
  },
  {
   "cell_type": "markdown",
   "metadata": {},
   "source": [
    "## 2. Which wine exporting country should the company prioritise due to the limited marketing budget for this year?"
   ]
  },
  {
   "cell_type": "code",
   "execution_count": 8,
   "metadata": {},
   "outputs": [
    {
     "name": "stdout",
     "output_type": "stream",
     "text": [
      "Country              Natural Wines        Non-Natural Wines    Natural Acidic       Natural Sweet        Natural Tannic       Non-Natural Acidic   Non-Natural Sweet    Non-Natural Tannic  \n",
      "Italie               18                   365                  12                   1                    2                    201                  67                   62                  \n",
      "France               13                   318                  10                   0                    0                    121                  0                    53                  \n",
      "Espagne              2                    92                   2                    0                    0                    39                   0                    34                  \n",
      "États-Unis           0                    74                   0                    0                    0                    41                   0                    26                  \n",
      "Portugal             0                    28                   0                    0                    0                    1                    0                    10                  \n",
      "Argentine            0                    23                   0                    0                    0                    13                   0                    10                  \n",
      "Afrique du Sud       0                    22                   0                    0                    0                    14                   0                    4                   \n",
      "Chili                0                    16                   0                    0                    0                    0                    0                    11                  \n",
      "Allemagne            0                    14                   0                    0                    0                    1                    0                    0                   \n",
      "Australie            0                    12                   0                    0                    0                    1                    0                    10                  \n",
      "Hongrie              0                    11                   0                    0                    0                    0                    0                    0                   \n",
      "Moldavie             0                    5                    0                    0                    0                    0                    0                    0                   \n",
      "Suisse               0                    2                    0                    0                    0                    1                    0                    0                   \n",
      "Grèce                0                    2                    0                    0                    0                    1                    0                    0                   \n",
      "Roumanie             0                    1                    0                    0                    0                    0                    0                    1                   \n",
      "Israël               0                    1                    0                    0                    0                    0                    0                    1                   \n",
      "Croatie              0                    1                    0                    0                    0                    1                    0                    0                   \n"
     ]
    }
   ],
   "source": [
    "# To answer this question, this query\n",
    "query2 = \"\"\"SELECT\n",
    "    country_name,\n",
    "    natural_wines_count,\n",
    "    non_natural_wines_count,\n",
    "    natural_acidic_wines_count,\n",
    "    natural_sweet_wines_count,\n",
    "    natural_tannic_wines_count,\n",
    "    non_natural_acidic_wines_count,\n",
    "    non_natural_sweet_wines_count,\n",
    "    non_natural_tannic_wines_count\n",
    "FROM (\n",
    "    SELECT\n",
    "        c.name AS country_name,\n",
    "        SUM(CASE WHEN w.is_natural = 1 THEN 1 ELSE 0 END) AS natural_wines_count,\n",
    "        SUM(CASE WHEN w.is_natural = 0 THEN 1 ELSE 0 END) AS non_natural_wines_count,\n",
    "        SUM(CASE WHEN w.is_natural = 1 AND w.acidity > w.sweetness AND w.acidity > w.tannin THEN 1 ELSE 0 END) AS natural_acidic_wines_count,\n",
    "        SUM(CASE WHEN w.is_natural = 1 AND w.sweetness > w.acidity AND w.sweetness > w.tannin THEN 1 ELSE 0 END) AS natural_sweet_wines_count,\n",
    "        SUM(CASE WHEN w.is_natural = 1 AND w.tannin > w.acidity AND w.tannin > w.sweetness THEN 1 ELSE 0 END) AS natural_tannic_wines_count,\n",
    "        SUM(CASE WHEN w.is_natural = 0 AND w.acidity > w.sweetness AND w.acidity > w.tannin THEN 1 ELSE 0 END) AS non_natural_acidic_wines_count,\n",
    "        SUM(CASE WHEN w.is_natural = 0 AND w.sweetness > w.acidity AND w.sweetness > w.tannin THEN 1 ELSE 0 END) AS non_natural_sweet_wines_count,\n",
    "        SUM(CASE WHEN w.is_natural = 0 AND w.tannin > w.acidity AND w.tannin > w.sweetness THEN 1 ELSE 0 END) AS non_natural_tannic_wines_count\n",
    "    FROM\n",
    "        countries c\n",
    "    LEFT JOIN\n",
    "        regions r ON c.code = r.country_code\n",
    "    LEFT JOIN\n",
    "        wines w ON r.id = w.region_id\n",
    "    GROUP BY\n",
    "        c.name\n",
    "    ORDER BY non_natural_wines_count DESC\n",
    ") AS subquery;\"\"\"\n",
    "\n",
    "cursor.execute(query2)\n",
    "results = cursor.fetchall()\n",
    "\n",
    "# Print column headers\n",
    "print(\"{:<20} {:<20} {:<20} {:<20} {:<20} {:<20} {:<20} {:<20} {:<20}\".format(\n",
    "    \"Country\", \"Natural Wines\", \"Non-Natural Wines\",\n",
    "    \"Natural Acidic\", \"Natural Sweet\", \"Natural Tannic\",\n",
    "    \"Non-Natural Acidic\", \"Non-Natural Sweet\", \"Non-Natural Tannic\"\n",
    "))\n",
    "\n",
    "# Print each row\n",
    "for row in results:\n",
    "    country_name, natural_wines_count, non_natural_wines_count, \\\n",
    "    natural_acidic_wines_count, natural_sweet_wines_count, natural_tannic_wines_count, \\\n",
    "    non_natural_acidic_wines_count, non_natural_sweet_wines_count, non_natural_tannic_wines_count = row\n",
    "    print(\"{:<20} {:<20} {:<20} {:<20} {:<20} {:<20} {:<20} {:<20} {:<20}\".format(\n",
    "        country_name, natural_wines_count, non_natural_wines_count,\n",
    "        natural_acidic_wines_count, natural_sweet_wines_count, natural_tannic_wines_count,\n",
    "        non_natural_acidic_wines_count, non_natural_sweet_wines_count, non_natural_tannic_wines_count\n",
    "    ))"
   ]
  },
  {
   "cell_type": "markdown",
   "metadata": {},
   "source": [
    "## 3. Which wineries should we award and why?"
   ]
  },
  {
   "cell_type": "code",
   "execution_count": 9,
   "metadata": {},
   "outputs": [
    {
     "name": "stdout",
     "output_type": "stream",
     "text": [
      "The 1 degree award goes to winery number 14919, for their Cabernet Sauvignon, rated 4.8 by 2941 users!\n",
      "The 2 degree award goes to winery number 82979, for their Toscana, rated 4.7 by 16284 users!\n",
      "The 3 degree award goes to winery number 3286, for their Le Mesnil Blanc de Blancs (Cuvée S) Brut Champagne, rated 4.7 by 9564 users!\n"
     ]
    }
   ],
   "source": [
    "#To answer this question, we display the wines that have #1 ranking 2 years in row, and the highest rating given by most people\n",
    "#The wineries are anonymized for subjectifity!\n",
    "\n",
    "query3 = \"\"\"\n",
    "SELECT DISTINCT wines.name, wines.ratings_average, wines.ratings_count, wines.winery_id\n",
    "FROM wines\n",
    "JOIN vintages ON wines.id = vintages.wine_id\n",
    "JOIN vintage_toplists_rankings ON vintages.id = vintage_toplists_rankings.vintage_id\n",
    "JOIN toplists ON vintage_toplists_rankings.top_list_id = toplists.id\n",
    "WHERE vintage_toplists_rankings.rank = 1 AND vintage_toplists_rankings.previous_rank = 1\n",
    "GROUP BY toplists.name\n",
    "ORDER BY wines.ratings_average DESC, wines.ratings_count DESC\n",
    "LIMIT 3\n",
    "\"\"\"\n",
    "cursor.execute(query3)\n",
    "result = cursor.fetchall()\n",
    "\n",
    "for i in range(len(result)):\n",
    "\n",
    "    print(f\"The {str(i+1)} degree award goes to winery number {str(result[i][3])}, for their {result[i][0]}, rated {str(result[i][1])} by {str(result[i][2])} users!\")"
   ]
  },
  {
   "cell_type": "markdown",
   "metadata": {},
   "source": [
    "## 4. What wines can be described by the following taste: *coffee, toast, green apple, cream, citrus*? "
   ]
  },
  {
   "cell_type": "code",
   "execution_count": 10,
   "metadata": {},
   "outputs": [
    {
     "name": "stdout",
     "output_type": "stream",
     "text": [
      "+----------------------------------------------------+--------+-------+--------+-------+-------------+\n",
      "|                     Wine Name                      | Citrus | Toast | Coffee | Cream | Green Apple |\n",
      "+----------------------------------------------------+--------+-------+--------+-------+-------------+\n",
      "|            Belle Epoque Brut Champagne             |  423   |  478  |   28   |  207  |     224     |\n",
      "|               Blanc des Millénaires                |  181   |  320  |   54   |  149  |      66     |\n",
      "|                   Brut Champagne                   |  2596  |  4330 |  290   |  1564 |     893     |\n",
      "|                Brut Rosé Champagne                 |  763   |  918  |   18   |  740  |     130     |\n",
      "|             Clos des Goisses Champagne             |   78   |  106  |   18   |   65  |      24     |\n",
      "|                   Clos du Mesnil                   |   62   |   66  |   18   |   16  |      19     |\n",
      "|        Comtes de Champagne Blanc de Blancs         |  720   |  1174 |   78   |  589  |     249     |\n",
      "|            Corton-Charlemagne Grand Cru            |  479   |  284  |   10   |  301  |     102     |\n",
      "|         Cristal Brut Champagne (Millésimé)         |  954   |  928  |   52   |  496  |     298     |\n",
      "|      Cristal Rosé Brut Champagne (Millésimé)       |   74   |  102  |   10   |   48  |      15     |\n",
      "|       Cuvée des Enchanteleurs Brut Champagne       |   25   |   62  |   28   |   37  |      11     |\n",
      "|     Dom Ruinart Blanc de Blancs Brut Champagne     |  250   |  452  |   44   |  165  |      86     |\n",
      "|       Grand Siècle Champagne (Grande Cuvée)        |  296   |  424  |   14   |  169  |     136     |\n",
      "|                    Grande Cuvée                    |  916   |  1426 |  100   |  439  |     304     |\n",
      "|           La Grande Année Brut Champagne           |  454   |  1050 |   64   |  425  |     175     |\n",
      "|           La Grande Dame Brut Champagne            |  326   |  488  |   32   |  178  |     111     |\n",
      "| Le Mesnil Blanc de Blancs (Cuvée S) Brut Champagne |  240   |  200  |   24   |  118  |      76     |\n",
      "|                         MV                         |  131   |  226  |   20   |  109  |      33     |\n",
      "|            P2 Plénitude Brut Champagne             |  141   |  322  |   28   |  135  |      30     |\n",
      "|            Pauillac (Grand Cru Classé)             |   29   |  342  |  1318  |  189  |      10     |\n",
      "|    Pessac-Léognan (Grand Cru Classé de Graves)     |   64   |  162  |  530   |  143  |      12     |\n",
      "|    R.D Extra Brut Champagne (Récemment Dégorgé)    |  149   |  326  |   34   |  157  |      34     |\n",
      "|                     Sauternes                      |  207   |   98  |   52   |  215  |      13     |\n",
      "|        Sauternes (Premier Grand Cru Classé)        |  267   |  162  |   58   |  277  |      14     |\n",
      "|        Sir Winston Churchill Brut Champagne        |  408   |  564  |   26   |  290  |     127     |\n",
      "|                Trebbiano d'Abruzzo                 |   64   |   22  |   42   |   28  |      19     |\n",
      "|                      Vintage                       |  406   |  712  |  112   |  240  |      96     |\n",
      "+----------------------------------------------------+--------+-------+--------+-------+-------------+\n"
     ]
    }
   ],
   "source": [
    "#importing the libriries to make table output\n",
    "from prettytable import PrettyTable\n",
    "from collections import defaultdict\n",
    "\n",
    "# To answer the question, we looked up the keywords and corresponding wines\n",
    "\n",
    "query4 = '''\n",
    "SELECT \n",
    "    w.name AS WineName,\n",
    "    k.name AS Keyword,\n",
    "    SUM(kw.count) AS KeywordCount\n",
    "FROM \n",
    "    wines w\n",
    "JOIN \n",
    "    keywords_wine kw ON w.id = kw.wine_id\n",
    "JOIN \n",
    "    keywords k ON kw.keyword_id = k.id\n",
    "WHERE \n",
    "    k.name IN ('coffee', 'toast', 'green apple', 'cream', 'citrus')\n",
    "GROUP BY \n",
    "    w.name, k.name\n",
    "HAVING \n",
    "    SUM(kw.count) >= 10\n",
    "\n",
    "    '''\n",
    "cursor.execute(query4)\n",
    "results = cursor.fetchall()\n",
    "\n",
    "# Create a PrettyTable object with the appropriate headers\n",
    "table = PrettyTable()\n",
    "table.field_names = [\"Wine Name\", \"Citrus\",\n",
    "                     \"Toast\", \"Coffee\", \"Cream\", \"Green Apple\"]\n",
    "\n",
    "# Process the results into a dictionary\n",
    "wines = defaultdict(lambda: defaultdict(int))\n",
    "for wine_name, keyword, count in results:\n",
    "    wines[wine_name][keyword] = count\n",
    "\n",
    "# Fill the table with wine data\n",
    "for wine_name, keywords in wines.items():\n",
    "    if len(keywords) == 5:  # Check if the wine has all 5 keywords\n",
    "        # Append rows to the table with the count for each keyword\n",
    "        table.add_row([\n",
    "            wine_name,\n",
    "            keywords.get('citrus', 0),\n",
    "            keywords.get('toast', 0),\n",
    "            keywords.get('coffee', 0),\n",
    "            keywords.get('cream', 0),\n",
    "            keywords.get('green apple', 0)\n",
    "        ])\n",
    "\n",
    "# Sort the table by a column if desired (e.g., 'Wine Name')\n",
    "table.sortby = \"Wine Name\"\n",
    "\n",
    "# Print the table\n",
    "print(table)"
   ]
  },
  {
   "cell_type": "markdown",
   "metadata": {},
   "source": [
    "## 5. What are the top 3 most common grapes all over the world, and what are the 5 best-rated wines for each type?"
   ]
  },
  {
   "cell_type": "code",
   "execution_count": 22,
   "metadata": {},
   "outputs": [
    {
     "name": "stdout",
     "output_type": "stream",
     "text": [
      "The number 1 popular grape is Cabernet Sauvignon. There are 801751 wines made of it!\n",
      "The number 2 popular grape is Chardonnay. There are 604208 wines made of it!\n",
      "The number 3 popular grape is Pinot Noir. There are 572334 wines made of it!\n"
     ]
    }
   ],
   "source": [
    "# Find the top 3 most common grapes all over the world\n",
    "query5 = \"\"\"\n",
    "    SELECT grapes.name, grape_id, wines_count AS count\n",
    "    FROM most_used_grapes_per_country\n",
    "    INNER JOIN grapes ON grapes.id = most_used_grapes_per_country.grape_id\n",
    "    GROUP BY grapes.name\n",
    "    ORDER BY count DESC\n",
    "    LIMIT 3;\n",
    "\"\"\"\n",
    "cursor.execute(query5)\n",
    "result = cursor.fetchall()\n",
    "top_grape = []\n",
    "for i in range(len(result)):\n",
    "    top_grape.append(result[i][0])\n",
    "    print(f\"The number {i+1} popular grape is {result[i][0]}. There are {result[i][2]} wines made of it!\")"
   ]
  },
  {
   "cell_type": "code",
   "execution_count": 36,
   "metadata": {},
   "outputs": [
    {
     "name": "stdout",
     "output_type": "stream",
     "text": [
      "The best wines from Cabernet Sauvignon are: \n",
      "Cabernet Sauvignon, from Rutherford, États-Unis, rated 4.8\n",
      "Special Selection Cabernet Sauvignon, from Napa Valley, États-Unis, rated 4.7\n",
      "Cabernet Sauvignon, from Napa Valley, États-Unis, rated 4.6\n",
      "Cabernet Sauvignon (Signature), from Napa Valley, États-Unis, rated 4.6\n",
      "CASK 23 Cabernet Sauvignon, from Napa Valley, États-Unis, rated 4.6\n",
      "----------------------------------------\n",
      "The best wines from Chardonnay are: \n",
      "Chloe Chardonnay, from Russian River Valley, États-Unis, rated 4.5\n",
      "Reserve Chardonnay, from Greyton, Afrique du Sud, rated 4.5\n",
      "Bentrock Vineyard Chardonnay, from Sta. Rita Hills, États-Unis, rated 4.5\n",
      "One Sixteen Chardonnay, from Russian River Valley, États-Unis, rated 4.4\n",
      "Chardonnay, from Western Cape, Afrique du Sud, rated 4.4\n",
      "----------------------------------------\n",
      "The best wines from Pinot Noir are: \n",
      "Grace Vineyard Pinot Noir, from Dundee Hills, États-Unis, rated 4.5\n",
      "Finn Pinot Noir, from Russian River Valley, États-Unis, rated 4.5\n",
      "Mark Bradford Vineyard Pinot Noir, from Dundee Hills, États-Unis, rated 4.5\n",
      "Alpine Hillside Pinot Noir, from Santa Cruz Mountains, États-Unis, rated 4.5\n",
      "Evenstad Reserve Pinot Noir, from Willamette Valley, États-Unis, rated 4.4\n",
      "----------------------------------------\n"
     ]
    }
   ],
   "source": [
    "# for each most common top 3 grape, give us the the 5 best rated wines.\n",
    "results = []\n",
    "for grape in top_grape:\n",
    "    query = f\"\"\"\n",
    "    SELECT \n",
    "            wines.name AS name, \n",
    "            regions.name AS region, \n",
    "            countries.name AS country, \n",
    "            ratings_average AS rating\n",
    "        FROM wines\n",
    "        INNER JOIN regions ON regions.id = wines.region_id\n",
    "        INNER JOIN countries ON countries.code = regions.country_code\n",
    "        WHERE wines.name LIKE '%{grape}%'\n",
    "        ORDER BY rating DESC, ratings_count DESC\n",
    "        LIMIT 5;\n",
    "    \"\"\"\n",
    "    cursor.execute(query)\n",
    "    result = cursor.fetchall()\n",
    "    results.append(result)\n",
    "\n",
    "for i, grape_results in enumerate(results):\n",
    "    print(f\"The best wines from {top_grape[i]} are: \")\n",
    "    for wine in grape_results:\n",
    "        print(f\"{wine[0]}, from {wine[1]}, {wine[2]}, rated {wine[3]}\")\n",
    "    print(\"----------------------------------------\")\n"
   ]
  },
  {
   "cell_type": "markdown",
   "metadata": {},
   "source": [
    "## 6. What is a leaderboard for the average wine and vintage rating in each country?\n"
   ]
  },
  {
   "cell_type": "code",
   "execution_count": 41,
   "metadata": {},
   "outputs": [
    {
     "name": "stdout",
     "output_type": "stream",
     "text": [
      "+----------------+---------------------+\n",
      "|    Country     | Average Wine Rating |\n",
      "+----------------+---------------------+\n",
      "|   Allemagne    |         4.50        |\n",
      "|     Israël     |         4.50        |\n",
      "|   États-Unis   |         4.49        |\n",
      "|    Moldavie    |         4.48        |\n",
      "|    Hongrie     |         4.47        |\n",
      "| Afrique du Sud |         4.46        |\n",
      "|   Australie    |         4.46        |\n",
      "|     France     |         4.45        |\n",
      "|    Espagne     |         4.44        |\n",
      "|    Portugal    |         4.44        |\n",
      "|     Chili      |         4.43        |\n",
      "|     Italie     |         4.43        |\n",
      "|   Argentine    |         4.42        |\n",
      "|    Roumanie    |         4.40        |\n",
      "|     Grèce      |         4.40        |\n",
      "|     Suisse     |         4.35        |\n",
      "|    Croatie     |         4.30        |\n",
      "+----------------+---------------------+\n"
     ]
    }
   ],
   "source": [
    "#Leaderboard for wines\n",
    "query6 = '''\n",
    "    SELECT \n",
    "        c.name AS country,\n",
    "        AVG(w.ratings_average) AS avg_rating\n",
    "    FROM \n",
    "        countries c\n",
    "    JOIN \n",
    "        regions r ON c.code = r.country_code\n",
    "    JOIN \n",
    "        wines w ON r.id = w.region_id\n",
    "    GROUP BY \n",
    "        c.name\n",
    "    ORDER BY \n",
    "        AVG(w.ratings_average) DESC;\n",
    "'''\n",
    "\n",
    "cursor.execute(query6)\n",
    "country_results = cursor.fetchall()\n",
    "\n",
    "# Create a table\n",
    "from prettytable import PrettyTable\n",
    "table = PrettyTable()\n",
    "table.field_names = [\"Country\", \"Average Wine Rating\"]\n",
    "\n",
    "for country, avg_rating in country_results:\n",
    "    table.add_row([country, f\"{avg_rating:.2f}\"])\n",
    "\n",
    "print(table)\n",
    "\n"
   ]
  },
  {
   "cell_type": "code",
   "execution_count": 42,
   "metadata": {},
   "outputs": [
    {
     "name": "stdout",
     "output_type": "stream",
     "text": [
      "+----------------+------------------------+\n",
      "|    Country     | Average Vintage Rating |\n",
      "+----------------+------------------------+\n",
      "|    Roumanie    |          4.50          |\n",
      "|    Croatie     |          4.40          |\n",
      "|   Argentine    |          4.32          |\n",
      "|     Chili      |          4.12          |\n",
      "|    Portugal    |          3.93          |\n",
      "|    Moldavie    |          3.87          |\n",
      "|   États-Unis   |          3.70          |\n",
      "| Afrique du Sud |          3.66          |\n",
      "|     Italie     |          3.63          |\n",
      "|    Espagne     |          3.38          |\n",
      "|    Hongrie     |          3.17          |\n",
      "|     France     |          3.07          |\n",
      "|   Australie    |          2.83          |\n",
      "|     Grèce      |          2.30          |\n",
      "|     Suisse     |          2.20          |\n",
      "|   Allemagne    |          1.70          |\n",
      "|     Israël     |          0.00          |\n",
      "+----------------+------------------------+\n"
     ]
    }
   ],
   "source": [
    "#Leaderbard for vintages\n",
    "vintage_query = '''\n",
    "    SELECT \n",
    "        c.name AS country,\n",
    "        AVG(v.ratings_average) AS avg_rating\n",
    "    FROM \n",
    "        countries c\n",
    "    JOIN \n",
    "        regions r ON c.code = r.country_code\n",
    "    JOIN \n",
    "        wines w ON r.id = w.region_id\n",
    "    JOIN\n",
    "        vintages v ON w.id = v.wine_id\n",
    "    GROUP BY \n",
    "        c.name\n",
    "    ORDER BY \n",
    "        AVG(v.ratings_average) DESC;\n",
    "'''\n",
    "\n",
    "\n",
    "cursor.execute(vintage_query)\n",
    "vintage_results = cursor.fetchall()\n",
    "\n",
    "table = PrettyTable()\n",
    "table.field_names = [\"Country\", \"Average Vintage Rating\"]\n",
    "\n",
    "for country, avg_rating in vintage_results:  # Use sorted data\n",
    "    table.add_row([country, f\"{avg_rating:.2f}\"])\n",
    "\n",
    "print(table)\n"
   ]
  },
  {
   "cell_type": "markdown",
   "metadata": {},
   "source": [
    "## 7. Which wines should the company recommend to a VIP client who likes Cabernet Sauvignon?"
   ]
  },
  {
   "cell_type": "code",
   "execution_count": 13,
   "metadata": {},
   "outputs": [
    {
     "name": "stdout",
     "output_type": "stream",
     "text": [
      "The Cabernet Sauvignon admirers will also like:\n",
      "1 Mágico\n",
      "2 Unico\n",
      "3 Special Selection Cabernet Sauvignon\n",
      "4 Grange\n",
      "5 Unico Reserva Especial Edición\n"
     ]
    }
   ],
   "source": [
    "query7 = \"\"\"\n",
    "    SELECT wines.name\n",
    "    FROM wines\n",
    "    JOIN regions ON wines.region_id = regions.id\n",
    "    JOIN countries ON regions.country_code = countries.code\n",
    "    JOIN most_used_grapes_per_country ON countries.code = most_used_grapes_per_country.country_code\n",
    "    JOIN grapes ON most_used_grapes_per_country.grape_id = grapes.id\n",
    "    WHERE grapes.name = 'Cabernet Sauvignon'\n",
    "    GROUP BY wines.name\n",
    "    ORDER BY \n",
    "        ((wines.ratings_average * wines.ratings_count) + \n",
    "        ((\n",
    "            SELECT SUM(wines.ratings_average) \n",
    "            FROM wines\n",
    "        ) / (\n",
    "            SELECT COUNT(DISTINCT id) \n",
    "            FROM wines\n",
    "        ))\n",
    "    ) / (wines.ratings_count + 1) DESC\n",
    "    LIMIT 5;\n",
    "\"\"\"\n",
    "cursor.execute(query7)\n",
    "results = cursor.fetchall()\n",
    "print(\"The Cabernet Sauvignon admirers will also like:\")\n",
    "for i in range(len(results)):\n",
    "    print(i+1, results[i][0])"
   ]
  }
 ],
 "metadata": {
  "kernelspec": {
   "display_name": ".venv",
   "language": "python",
   "name": "python3"
  },
  "language_info": {
   "codemirror_mode": {
    "name": "ipython",
    "version": 3
   },
   "file_extension": ".py",
   "mimetype": "text/x-python",
   "name": "python",
   "nbconvert_exporter": "python",
   "pygments_lexer": "ipython3",
   "version": "3.10.11"
  }
 },
 "nbformat": 4,
 "nbformat_minor": 2
}
